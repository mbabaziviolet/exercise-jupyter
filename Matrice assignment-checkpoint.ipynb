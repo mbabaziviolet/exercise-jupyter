{
 "cells": [
  {
   "cell_type": "code",
   "execution_count": 6,
   "metadata": {},
   "outputs": [
    {
     "name": "stdout",
     "output_type": "stream",
     "text": [
      "Monday: [[1 2 2 1 2]]\n",
      "Tuesday: [[4 5 3 3 1]]\n",
      "Wednesday: [[2 3 1 1 3]]\n",
      "Thursday: [[3 5 2 2 1]]\n",
      "Friday: [[6 1 1 1 4]]\n",
      "\n",
      "\n",
      "product of Quantity and their prices is:\n",
      " [[ 2800  6250  1400  1950  3800]\n",
      " [ 4500 14500  3300  4350  5800]\n",
      " [ 3700  7500  1900  2550  4600]\n",
      " [ 3900 12000  2800  3750  4600]\n",
      " [ 3900  7250  2200  2400  6600]]\n"
     ]
    }
   ],
   "source": [
    "import numpy as np\n",
    "#let Q and p represent the quantity and price of items\n",
    "#let O,T,G,C and L represent Onions,Tomatoes,Garlic and Lemon\n",
    "\n",
    "Q = np.matrix('[1,2,2,1,2;4,5,3,3,1;2,3,1,1,3;3,5,2,2,1;6,1,1,1,4]')\n",
    "p = np.matrix('[100,500,200,150,400;400,1250,300,450,200;200,750,100,150,600;300,1250,200,300,200;600,250,100,150,800]')\n",
    " \n",
    "#days\n",
    "print('Monday:',Q[0][0])\n",
    "print('Tuesday:',Q[1][0])\n",
    "print('Wednesday:',Q[2][0])\n",
    "print('Thursday:',Q[3][0])\n",
    "print('Friday:',Q[4][0])\n",
    "print('\\n')\n",
    "\n",
    "#multiplication of matrices Q and p\n",
    "print('product of Quantity and their prices is:\\n',Q.dot(p))"
   ]
  },
  {
   "cell_type": "code",
   "execution_count": 7,
   "metadata": {},
   "outputs": [
    {
     "name": "stdout",
     "output_type": "stream",
     "text": [
      "[[1 4 2 3 6]\n",
      " [2 5 3 5 1]\n",
      " [2 3 1 2 1]\n",
      " [1 3 1 2 1]\n",
      " [2 1 3 1 4]]\n"
     ]
    }
   ],
   "source": [
    "#Transpose of Q\n",
    "print(Q.transpose())"
   ]
  },
  {
   "cell_type": "code",
   "execution_count": 8,
   "metadata": {},
   "outputs": [
    {
     "name": "stdout",
     "output_type": "stream",
     "text": [
      "[[ 100  400  200  300  600]\n",
      " [ 500 1250  750 1250  250]\n",
      " [ 200  300  100  200  100]\n",
      " [ 150  450  150  300  150]\n",
      " [ 400  200  600  200  800]]\n"
     ]
    }
   ],
   "source": [
    "#Transpose of p\n",
    "print(p.transpose())"
   ]
  },
  {
   "cell_type": "code",
   "execution_count": 9,
   "metadata": {},
   "outputs": [
    {
     "name": "stdout",
     "output_type": "stream",
     "text": [
      "Determinant of Q is : -50.00000000000004\n",
      "\n",
      "\n"
     ]
    }
   ],
   "source": [
    "#Determinant of Q\n",
    "det = np.linalg.det(Q)\n",
    "print('Determinant of Q is :',det)\n",
    "print('\\n')"
   ]
  },
  {
   "cell_type": "code",
   "execution_count": 10,
   "metadata": {},
   "outputs": [
    {
     "name": "stdout",
     "output_type": "stream",
     "text": [
      "Determinant of p is : -3750000000000.0107\n",
      "\n",
      "\n"
     ]
    }
   ],
   "source": [
    "#Determinant of p\n",
    "det = np.linalg.det(p)\n",
    "print('Determinant of p is :',det)\n",
    "print('\\n')"
   ]
  },
  {
   "cell_type": "code",
   "execution_count": 11,
   "metadata": {},
   "outputs": [
    {
     "name": "stdout",
     "output_type": "stream",
     "text": [
      "[[ 0.   -0.22 -0.38  0.4   0.24]\n",
      " [ 0.   -0.38 -0.02  0.6  -0.04]\n",
      " [ 1.   -0.48 -0.92  0.6   0.16]\n",
      " [-1.    1.7   1.3  -2.   -0.4 ]\n",
      " [ 0.    0.12  0.48 -0.4  -0.04]]\n"
     ]
    }
   ],
   "source": [
    "#The inverse of Q\n",
    "invQ = np.linalg.inv(Q)\n",
    "print(invQ)"
   ]
  },
  {
   "cell_type": "code",
   "execution_count": 12,
   "metadata": {},
   "outputs": [
    {
     "name": "stdout",
     "output_type": "stream",
     "text": [
      "[[-9.45745539e-19 -2.20000000e-03 -3.80000000e-03  4.00000000e-03\n",
      "   2.40000000e-03]\n",
      " [-3.94745964e-19 -1.52000000e-03 -8.00000000e-05  2.40000000e-03\n",
      "  -1.60000000e-04]\n",
      " [ 1.00000000e-02 -4.80000000e-03 -9.20000000e-03  6.00000000e-03\n",
      "   1.60000000e-03]\n",
      " [-6.66666667e-03  1.13333333e-02  8.66666667e-03 -1.33333333e-02\n",
      "  -2.66666667e-03]\n",
      " [ 4.66293670e-19  6.00000000e-04  2.40000000e-03 -2.00000000e-03\n",
      "  -2.00000000e-04]]\n"
     ]
    }
   ],
   "source": [
    "#The inverse of p\n",
    "invp = np.linalg.inv(p)\n",
    "print(invp)"
   ]
  },
  {
   "cell_type": "code",
   "execution_count": 14,
   "metadata": {},
   "outputs": [
    {
     "name": "stdout",
     "output_type": "stream",
     "text": [
      "[[1. 0. 0. 0. 0.]\n",
      " [0. 1. 0. 0. 0.]\n",
      " [0. 0. 1. 0. 0.]\n",
      " [0. 0. 0. 1. 0.]\n",
      " [0. 0. 0. 0. 1.]]\n"
     ]
    }
   ],
   "source": [
    "#Identity matrix \n",
    "Id = np.identity(5)\n",
    "print(Id)"
   ]
  },
  {
   "cell_type": "code",
   "execution_count": 15,
   "metadata": {},
   "outputs": [
    {
     "name": "stdout",
     "output_type": "stream",
     "text": [
      "[[1. 2. 2. 1. 2.]\n",
      " [4. 5. 3. 3. 1.]\n",
      " [2. 3. 1. 1. 3.]\n",
      " [3. 5. 2. 2. 1.]\n",
      " [6. 1. 1. 1. 4.]]\n"
     ]
    }
   ],
   "source": [
    "#Multiplication of matrix (Q) by an identity matrix\n",
    "A = Q.dot(Id)\n",
    "print(A)"
   ]
  },
  {
   "cell_type": "code",
   "execution_count": 16,
   "metadata": {},
   "outputs": [
    {
     "name": "stdout",
     "output_type": "stream",
     "text": [
      "[[ 100.  500.  200.  150.  400.]\n",
      " [ 400. 1250.  300.  450.  200.]\n",
      " [ 200.  750.  100.  150.  600.]\n",
      " [ 300. 1250.  200.  300.  200.]\n",
      " [ 600.  250.  100.  150.  800.]]\n"
     ]
    }
   ],
   "source": [
    "#Multiplication of matrix (p) by an identity matrix\n",
    "B = p.dot(Id)\n",
    "print(B)"
   ]
  },
  {
   "cell_type": "code",
   "execution_count": null,
   "metadata": {},
   "outputs": [],
   "source": []
  }
 ],
 "metadata": {
  "kernelspec": {
   "display_name": "Python 3",
   "language": "python",
   "name": "python3"
  },
  "language_info": {
   "codemirror_mode": {
    "name": "ipython",
    "version": 3
   },
   "file_extension": ".py",
   "mimetype": "text/x-python",
   "name": "python",
   "nbconvert_exporter": "python",
   "pygments_lexer": "ipython3",
   "version": "3.7.6"
  }
 },
 "nbformat": 4,
 "nbformat_minor": 4
}
